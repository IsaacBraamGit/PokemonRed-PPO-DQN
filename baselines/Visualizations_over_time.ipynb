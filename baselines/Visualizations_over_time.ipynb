{
 "cells": [
  {
   "cell_type": "code",
   "execution_count": 138,
   "metadata": {},
   "outputs": [],
   "source": [
    "import pandas as pd\n",
    "from pathlib import Path\n",
    "import matplotlib\n",
    "import matplotlib.pyplot as plt\n",
    "from PIL import Image\n",
    "from einops import rearrange\n",
    "import requests\n",
    "import io\n",
    "import json\n",
    "from functools import reduce\n",
    "from tqdm import tqdm\n",
    "from scipy.ndimage import gaussian_filter\n",
    "import mediapy as media\n",
    "import numpy as np\n",
    "#from visualization_tools import game_coord_to_pixel_coord"
   ]
  },
  {
   "cell_type": "code",
   "execution_count": 139,
   "metadata": {},
   "outputs": [],
   "source": [
    "run_dir = Path('session_4da05e87_main_good') # Path('baselines/session_ebdfe818')\n",
    "# original session_e41c9eff, main session_4da05e87, extra session_e1b6d2dc"
   ]
  },
  {
   "cell_type": "code",
   "execution_count": 140,
   "metadata": {},
   "outputs": [],
   "source": [
    "def path_to_runs(pth):\n",
    "    tdf = pd.read_csv(pth, compression='gzip')\n",
    "    return np.array_split(tdf[tdf['map'] != 'map'], 610)"
   ]
  },
  {
   "cell_type": "code",
   "execution_count": 141,
   "metadata": {},
   "outputs": [
    {
     "name": "stderr",
     "output_type": "stream",
     "text": [
      "0it [00:00, ?it/s]\n"
     ]
    }
   ],
   "source": [
    "all_runs = [path_to_runs(pth) for pth in tqdm(run_dir.glob('*.gz'))]\n",
    "all_runs = list(map(list, zip(*all_runs)))"
   ]
  },
  {
   "cell_type": "code",
   "execution_count": 142,
   "metadata": {},
   "outputs": [
    {
     "data": {
      "text/plain": "0"
     },
     "execution_count": 142,
     "metadata": {},
     "output_type": "execute_result"
    }
   ],
   "source": [
    "len(all_runs)"
   ]
  },
  {
   "cell_type": "code",
   "execution_count": 143,
   "metadata": {},
   "outputs": [
    {
     "ename": "IndexError",
     "evalue": "list index out of range",
     "output_type": "error",
     "traceback": [
      "\u001B[1;31m---------------------------------------------------------------------------\u001B[0m",
      "\u001B[1;31mIndexError\u001B[0m                                Traceback (most recent call last)",
      "Cell \u001B[1;32mIn[143], line 1\u001B[0m\n\u001B[1;32m----> 1\u001B[0m \u001B[38;5;28mlen\u001B[39m(\u001B[43mall_runs\u001B[49m\u001B[43m[\u001B[49m\u001B[38;5;241;43m0\u001B[39;49m\u001B[43m]\u001B[49m)\n",
      "\u001B[1;31mIndexError\u001B[0m: list index out of range"
     ]
    }
   ],
   "source": [
    "len(all_runs[0])"
   ]
  },
  {
   "cell_type": "code",
   "execution_count": null,
   "metadata": {},
   "outputs": [],
   "source": [
    "all_runs[0][0].keys()"
   ]
  },
  {
   "cell_type": "code",
   "execution_count": null,
   "metadata": {},
   "outputs": [],
   "source": [
    "poke_id_to_name = {\n",
    "    177: \"Squirtle\",\n",
    "    255: \"None\",\n",
    "    0: \"None\",\n",
    "    165: \"Rattata\",\n",
    "    36: \"Pidgey\",\n",
    "    179: \"Wartortle\",\n",
    "    150: \"Pidgeotto\",\n",
    "    112: \"Weedle\",\n",
    "    113: \"Kakuna\",\n",
    "    114: \"Beedrill\",\n",
    "    133: \"Magikarp\",\n",
    "    169: \"Geodude\",\n",
    "    107: \"Zubat\",\n",
    "    109: \"Paras\",\n",
    "    100: \"Jigglypuff\",\n",
    "    84: \"Pikachu\",\n",
    "    123: \"Caterpie\",\n",
    "    124: \"Metapod\",\n",
    "    4: \"Clefairy\",\n",
    "    5: \"Spearow\",\n",
    "    15: \"Nidoran♀\"\n",
    "}\n",
    "valid_list = [name for name in poke_id_to_name.values() if name != 'None']\n",
    "valid_list"
   ]
  },
  {
   "cell_type": "code",
   "execution_count": null,
   "metadata": {},
   "outputs": [],
   "source": [
    "poke_colors = {\n",
    " 'Squirtle': (116, 196, 215),\n",
    " 'Rattata': (157, 134, 162),\n",
    " 'Pidgey': (190, 157, 119),\n",
    " 'Wartortle': (80, 156, 214),\n",
    " 'Pidgeotto': (233, 128, 118),\n",
    " 'Weedle': (190, 150, 81),\n",
    " 'Kakuna': (226, 200, 123),\n",
    " 'Magikarp': (244, 119, 87),\n",
    " 'Geodude': (176, 176, 176),\n",
    " 'Zubat': (157, 82, 175),\n",
    " 'Paras': (241, 171, 100),\n",
    " 'Jigglypuff': (255, 200, 220),\n",
    " 'Pikachu': (252, 244, 107),\n",
    " 'Metapod': (162, 222, 80),\n",
    " 'Clefairy': (218, 165, 183),\n",
    " 'Spearow': (163, 75, 71),\n",
    " 'Nidoran♀': (163, 167, 205),\n",
    " 'Beedrill': (255,211,109),\n",
    " 'Caterpie': (125, 206, 104)\n",
    "}"
   ]
  },
  {
   "cell_type": "code",
   "execution_count": null,
   "metadata": {},
   "outputs": [],
   "source": [
    "# count times each pokemon caught\n",
    "all_poke_counts = []\n",
    "missing_poke = set()\n",
    "for run in tqdm(all_runs):\n",
    "    p_counts = {p:0 for p in valid_list}\n",
    "    for sim_df in run:\n",
    "        caught_pokes = set()\n",
    "        for step in sim_df['ptypes']:\n",
    "            party = json.loads(step)\n",
    "            for p in party:\n",
    "                if p in poke_id_to_name.keys():\n",
    "                    pname = poke_id_to_name[p]\n",
    "                    caught_pokes.add(pname)\n",
    "                elif p not in missing_poke:\n",
    "                    missing_poke.add(p)\n",
    "                    print(f'missing poke id: {p}')\n",
    "        for p in caught_pokes:\n",
    "            if p == 'None':\n",
    "                continue\n",
    "            if p in p_counts.keys():\n",
    "                p_counts[p] += 1\n",
    "            else:\n",
    "                p_counts[p] = 1\n",
    "    all_poke_counts.append(p_counts)\n",
    "        "
   ]
  },
  {
   "cell_type": "code",
   "execution_count": null,
   "metadata": {},
   "outputs": [],
   "source": [
    "all_poke_counts"
   ]
  },
  {
   "cell_type": "code",
   "execution_count": null,
   "metadata": {},
   "outputs": [],
   "source": [
    "steps = len(all_poke_counts)\n",
    "x = range(steps)\n",
    "raw_counts = np.array(list(zip(*[list(counts.values()) for counts in all_poke_counts])))\n",
    "raw_counts = [np.convolve(rc, np.ones(20), mode='same') for rc in raw_counts]\n",
    "raw_counts = [np.log(1+np.convolve(rc, np.ones(10), mode='same')) for rc in raw_counts]\n",
    "plt.figure(figsize=(16, 9), dpi=180)\n",
    "cols = iter(plt.cm.nipy_spectral(np.linspace(0, 40, steps)))\n",
    "plt.stackplot(x, *raw_counts, labels=valid_list, colors=cols)\n",
    "plt.legend(loc='upper left', prop={'size': 15})"
   ]
  },
  {
   "cell_type": "code",
   "execution_count": null,
   "metadata": {},
   "outputs": [],
   "source": [
    "base_stats = {\n",
    "    'pcount': 0, \n",
    "    'total_levels': 0, 'frames': 0, 'deaths': 0, \n",
    "    'event': 0, 'healr': 0, 'badge': 0\n",
    "}"
   ]
  },
  {
   "cell_type": "code",
   "execution_count": null,
   "metadata": {},
   "outputs": [],
   "source": [
    "def df_to_numpy(df):\n",
    "    # load levels and sum\n",
    "    df['total_levels'] = df['levels'].map(lambda x: sum(json.loads(x)))\n",
    "    #df = df.drop(columns=['levels', 'ptypes', 'Unnamed: 0', 'step', ])\n",
    "    #df['gcoords'] = df.apply(\n",
    "    #    lambda r: fastish(r['x'], r['y'], r['map'], 4000), axis=1)\n",
    "    #df['gx'] = df['gcoords'].map(lambda c: c[0])\n",
    "    #df['gy'] = df['gcoords'].map(lambda c: c[1])\n",
    "    # select only relevant stats and convert all to floats\n",
    "    return df[base_stats.keys()].applymap(lambda v: float(v)).to_numpy()"
   ]
  },
  {
   "cell_type": "code",
   "execution_count": null,
   "metadata": {},
   "outputs": [],
   "source": [
    "df_to_numpy(all_runs[0][0]).shape"
   ]
  },
  {
   "cell_type": "code",
   "execution_count": null,
   "metadata": {},
   "outputs": [],
   "source": [
    "name_to_idx = {name:idx for idx, name in enumerate(base_stats.keys())}\n",
    "name_to_idx"
   ]
  },
  {
   "cell_type": "code",
   "execution_count": null,
   "metadata": {},
   "outputs": [],
   "source": []
  },
  {
   "cell_type": "code",
   "execution_count": null,
   "metadata": {
    "scrolled": true
   },
   "outputs": [],
   "source": [
    "big_dat = np.array([[df_to_numpy(run) for run in batch] for batch in tqdm(all_runs)])\n",
    "#df_to_numpy(all_runs[0][0]).shape"
   ]
  },
  {
   "cell_type": "code",
   "execution_count": null,
   "metadata": {},
   "outputs": [],
   "source": [
    "big_dat.shape"
   ]
  },
  {
   "cell_type": "code",
   "execution_count": null,
   "metadata": {},
   "outputs": [],
   "source": [
    "big_dat[:,:,:,0].mean(axis=1).shape"
   ]
  },
  {
   "cell_type": "code",
   "execution_count": null,
   "metadata": {},
   "outputs": [],
   "source": [
    "rearrange(big_dat, '(r x) b s d -> r (x b) s d', x=1).shape"
   ]
  },
  {
   "cell_type": "code",
   "execution_count": null,
   "metadata": {},
   "outputs": [],
   "source": [
    "the_dat = 'total_levels'\n",
    "steps = 100\n",
    "start_step = 130\n",
    "combine_steps = 5\n",
    "plot_dat = rearrange(\n",
    "    big_dat, '(r x) b s d -> r (x b) s d', x=combine_steps\n",
    "    )[:, :, :, name_to_idx[the_dat]].mean(axis=1)\n",
    "for i in range(len(plot_dat)):\n",
    "    plot_dat[i] = gaussian_filter(plot_dat[i], 100.0, mode='nearest')\n",
    "with media.VideoWriter(f'{the_dat}.mp4', (1080, 1920)) as wr:\n",
    "    for i in tqdm(np.geomspace(start_step, plot_dat.shape[1]+1, num=steps)):\n",
    "        i = int(i)\n",
    "        #with plt.style.context('Solarize_Light2'):\n",
    "        fig = plt.figure(figsize=(16, 9), dpi=120)\n",
    "        for idx, dat in enumerate(plot_dat[:,:i]):\n",
    "            plt.plot(dat, color=plt.cm.jet(idx/plot_dat.shape[0]))\n",
    "\n",
    "        # Number of accent colors in the color scheme\n",
    "        plt.title(the_dat)\n",
    "        plt.xlabel('game actions', fontsize=14)\n",
    "        plt.ylabel(the_dat, fontsize=14)\n",
    "\n",
    "        fig.canvas.draw()\n",
    "        #plt.show()\n",
    "        data = np.frombuffer(fig.canvas.tostring_rgb(), dtype=np.uint8)\n",
    "        data = data.reshape(fig.canvas.get_width_height()[::-1] + (3,))\n",
    "        wr.add_image(data)\n",
    "        plt.close()"
   ]
  },
  {
   "cell_type": "code",
   "execution_count": null,
   "metadata": {},
   "outputs": [],
   "source": [
    "the_dat = 'deaths'\n",
    "steps = 100\n",
    "start_step = 20\n",
    "combine_steps = 10\n",
    "plot_dat = rearrange(\n",
    "    big_dat, '(r x) b s d -> r (x b) s d', x=combine_steps\n",
    "    )[:, :, :, name_to_idx[the_dat]].mean(axis=1)\n",
    "for i in range(len(plot_dat)):\n",
    "    plot_dat[i] = gaussian_filter(plot_dat[i], 100.0, mode='nearest')\n",
    "with media.VideoWriter(f'{the_dat}.mp4', (1080, 1920)) as wr:\n",
    "    for i in tqdm(np.geomspace(start_step, plot_dat.shape[1]+1, num=steps)):\n",
    "        i = int(i)\n",
    "        #with plt.style.context('Solarize_Light2'):\n",
    "        fig = plt.figure(figsize=(16, 9), dpi=120)\n",
    "        for idx, dat in enumerate(plot_dat[:,:i]):\n",
    "            plt.plot(dat, color=plt.cm.turbo(idx/plot_dat.shape[0]))\n",
    "\n",
    "        # Number of accent colors in the color scheme\n",
    "        plt.title(the_dat)\n",
    "        plt.xlabel('game actions', fontsize=14)\n",
    "        plt.ylabel(the_dat, fontsize=14)\n",
    "        fig.canvas.draw()\n",
    "        #plt.show()\n",
    "        data = np.frombuffer(fig.canvas.tostring_rgb(), dtype=np.uint8)\n",
    "        data = data.reshape(fig.canvas.get_width_height()[::-1] + (3,))\n",
    "        wr.add_image(data)\n",
    "        \n",
    "        plt.close()"
   ]
  },
  {
   "cell_type": "code",
   "execution_count": null,
   "metadata": {},
   "outputs": [],
   "source": [
    "# flipped so we can see progression differently\n",
    "the_dat = 'total_levels'\n",
    "steps = 10\n",
    "start_step = 20\n",
    "combine_steps = 1\n",
    "plot_dat = rearrange(\n",
    "    big_dat, '(r x) b s d -> r (x b) s d', x=combine_steps\n",
    "    )[:, :, :, name_to_idx[the_dat]].mean(axis=1)\n",
    "print(plot_dat.shape)\n",
    "for i in range(len(plot_dat)):\n",
    "    plot_dat[i] = gaussian_filter(plot_dat[i], 100.0, mode='nearest')\n",
    "with media.VideoWriter(f'{the_dat}.mp4', (1080, 1920)) as wr:\n",
    "    for i in tqdm(np.geomspace(start_step, plot_dat.shape[1]+1, num=steps)):\n",
    "        i = int(i)\n",
    "        #with plt.style.context('Solarize_Light2'):\n",
    "        fig = plt.figure(figsize=(16, 9), dpi=120)\n",
    "        for idx, dat in enumerate(plot_dat[:,:i]):\n",
    "            plt.plot(dat, color=plt.cm.turbo(idx/plot_dat.shape[0]))\n",
    "\n",
    "        # Number of accent colors in the color scheme\n",
    "        plt.title(the_dat)\n",
    "        plt.xlabel('game actions', fontsize=14)\n",
    "        plt.ylabel(the_dat, fontsize=14)\n",
    "        fig.canvas.draw()\n",
    "        #plt.show()\n",
    "        data = np.frombuffer(fig.canvas.tostring_rgb(), dtype=np.uint8)\n",
    "        data = data.reshape(fig.canvas.get_width_height()[::-1] + (3,))\n",
    "        wr.add_image(data)\n",
    "        \n",
    "        plt.close()"
   ]
  },
  {
   "cell_type": "code",
   "execution_count": null,
   "metadata": {},
   "outputs": [],
   "source": [
    "all_poke_counts[0]"
   ]
  },
  {
   "cell_type": "code",
   "execution_count": null,
   "metadata": {},
   "outputs": [],
   "source": [
    "mix_val = 0.1\n",
    "\n",
    "with media.VideoWriter(f'poke_pie.mp4', (1080, 1920)) as wr:\n",
    "    vals = {p:0 for p in valid_list}\n",
    "    for cur_poke in tqdm(all_poke_counts):\n",
    "        #with plt.style.context('Solarize_Light2'):\n",
    "        fig = plt.figure(figsize=(16, 9), dpi=120)\n",
    "        # Pie chart, where the slices will be ordered and plotted counter-clockwise:\n",
    "        for name, count in vals.items():\n",
    "            cc = 0\n",
    "            if name in cur_poke.keys():\n",
    "                cc = cur_poke[name]\n",
    "            vals[name] = count * (1-mix_val) + cc*mix_val\n",
    "            \n",
    "        poke_filtered = {name:count for name, count in vals.items() if count > 0}\n",
    "        explode = (0, 0.1, 0, 0)  # only \"explode\" the 2nd slice (i.e. 'Hogs')\n",
    "\n",
    "        plt.pie(\n",
    "            poke_filtered.values(), labels=poke_filtered.keys(), \n",
    "            colors=[np.array(poke_colors[p])/255 for p in poke_filtered.keys()], autopct='%1.1f%%',\n",
    "            shadow=False, startangle=90)\n",
    "        plt.axis('equal')  # Equal aspect ratio ensures that pie is drawn as a circle.\n",
    "\n",
    "        fig.canvas.draw()\n",
    "        data = np.frombuffer(fig.canvas.tostring_rgb(), dtype=np.uint8)\n",
    "        data = data.reshape(fig.canvas.get_width_height()[::-1] + (3,))\n",
    "        wr.add_image(data)\n",
    "        \n",
    "        plt.close()"
   ]
  },
  {
   "cell_type": "code",
   "execution_count": null,
   "metadata": {},
   "outputs": [],
   "source": [
    "my_df = pd.DataFrame(all_poke_counts).transpose()#.to_csv('cool_poke_data.csv') \n",
    "my_df"
   ]
  },
  {
   "cell_type": "code",
   "execution_count": null,
   "metadata": {},
   "outputs": [],
   "source": [
    "new_df = pd.DataFrame()\n",
    "mg = 4\n",
    "for c in range(len(my_df.columns)//mg):\n",
    "    new_df[c*3] = (my_df[c*mg] + my_df[c*mg+1] + my_df[c*mg+2] + my_df[c*mg+3]) / (mg*5/100)\n",
    "new_df = new_df.copy()\n",
    "new_df.to_csv('cool_poke_data.csv') "
   ]
  },
  {
   "cell_type": "code",
   "execution_count": null,
   "metadata": {},
   "outputs": [],
   "source": [
    "# total pokemon caught!\n",
    "tot_caught = 0\n",
    "for run in all_poke_counts:\n",
    "    for name,count in run.items():\n",
    "        if name != 'Squirtle':\n",
    "            tot_caught += count\n",
    "tot_caught"
   ]
  },
  {
   "cell_type": "code",
   "execution_count": null,
   "metadata": {},
   "outputs": [],
   "source": [
    "for name in name_to_idx.keys():\n",
    "    if name == 'frames':\n",
    "        continue\n",
    "    plt.plot(\n",
    "        gaussian_filter(\n",
    "            big_dat[:, :, -1, name_to_idx[name]].mean(axis=1)\n",
    "        , 5.0, mode='nearest'),\n",
    "        label=name\n",
    "    )\n",
    "    plt.legend()"
   ]
  },
  {
   "cell_type": "code",
   "execution_count": null,
   "metadata": {},
   "outputs": [],
   "source": [
    "# frames gets reset! when level threshold is reached knn index is reset and rews are rebalanced"
   ]
  },
  {
   "cell_type": "code",
   "execution_count": null,
   "metadata": {},
   "outputs": [],
   "source": [
    "plt.plot(all_runs[601][0]['frames'].map(int))"
   ]
  },
  {
   "cell_type": "code",
   "execution_count": null,
   "metadata": {},
   "outputs": [],
   "source": [
    "plt.plot(big_dat[601, 0, :, name_to_idx['frames']])"
   ]
  },
  {
   "cell_type": "code",
   "execution_count": null,
   "metadata": {},
   "outputs": [],
   "source": [
    "name_to_idx"
   ]
  },
  {
   "cell_type": "code",
   "execution_count": null,
   "metadata": {},
   "outputs": [],
   "source": [
    "!du -h ./* | sort -hr"
   ]
  },
  {
   "cell_type": "code",
   "execution_count": null,
   "metadata": {},
   "outputs": [],
   "source": [
    "!ls session_e41c9eff_start_maybe"
   ]
  },
  {
   "cell_type": "code",
   "execution_count": null,
   "metadata": {},
   "outputs": [],
   "source": [
    "with open('session_39dadd25/all_runs_9e0643ff.json') as f:\n",
    "    stats = json.load(f)"
   ]
  },
  {
   "cell_type": "code",
   "execution_count": null,
   "metadata": {},
   "outputs": [],
   "source": [
    "stats"
   ]
  },
  {
   "cell_type": "code",
   "execution_count": null,
   "metadata": {},
   "outputs": [],
   "source": []
  },
  {
   "cell_type": "code",
   "execution_count": null,
   "metadata": {},
   "outputs": [],
   "source": []
  }
 ],
 "metadata": {
  "kernelspec": {
   "display_name": "Python 3 (ipykernel)",
   "language": "python",
   "name": "python3"
  },
  "language_info": {
   "codemirror_mode": {
    "name": "ipython",
    "version": 3
   },
   "file_extension": ".py",
   "mimetype": "text/x-python",
   "name": "python",
   "nbconvert_exporter": "python",
   "pygments_lexer": "ipython3",
   "version": "3.8.12"
  }
 },
 "nbformat": 4,
 "nbformat_minor": 4
}
